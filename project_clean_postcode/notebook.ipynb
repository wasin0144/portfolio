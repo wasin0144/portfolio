{
 "cells": [
  {
   "cell_type": "markdown",
   "id": "1ab25bb2",
   "metadata": {},
   "source": [
    "# Import Libraries & Files"
   ]
  },
  {
   "cell_type": "code",
   "execution_count": 1,
   "id": "10173a6a-cd04-46c7-9675-50a6692d3bfa",
   "metadata": {
    "executionCancelledAt": null,
    "executionTime": 1799,
    "lastExecutedAt": 1751355158222,
    "lastExecutedByKernel": "8f36c741-9a3f-4910-b38a-a9283cae040c",
    "lastScheduledRunId": null,
    "lastSuccessfullyExecutedCode": "import pandas as pd\ndf_code = pd.read_excel('postcode_clean.xlsx', sheet_name='รหัสไปรษณีย์')\ndf_raw = pd.read_excel('raw_data.xlsx')"
   },
   "outputs": [],
   "source": [
    "import pandas as pd\n",
    "df_raw = pd.read_excel('/workspaces/portfolio/project_clean_postcode/raw_data.xlsx')\n",
    "df_code = pd.read_excel('/workspaces/portfolio/project_clean_postcode/postcode_clean.xlsx', sheet_name='รหัสไปรษณีย์')"
   ]
  },
  {
   "cell_type": "markdown",
   "id": "a3cfd911",
   "metadata": {},
   "source": [
    "# Fix Wrong Postcode on Raw Data"
   ]
  },
  {
   "cell_type": "markdown",
   "id": "16ec4967",
   "metadata": {},
   "source": [
    "## Total Raw Data"
   ]
  },
  {
   "cell_type": "code",
   "execution_count": 2,
   "id": "a50b8d68",
   "metadata": {},
   "outputs": [
    {
     "data": {
      "text/plain": [
       "1095"
      ]
     },
     "execution_count": 2,
     "metadata": {},
     "output_type": "execute_result"
    }
   ],
   "source": [
    "df_raw.shape[0]"
   ]
  },
  {
   "cell_type": "markdown",
   "id": "bc556d64",
   "metadata": {},
   "source": [
    "## Fix Raw Data That Not Included in Postcode Data"
   ]
  },
  {
   "cell_type": "code",
   "execution_count": 3,
   "id": "d9d11d49-25d6-42bf-826e-51c826fd4603",
   "metadata": {
    "executionCancelledAt": null,
    "executionTime": 55,
    "lastExecutedAt": 1751357218690,
    "lastExecutedByKernel": "8f36c741-9a3f-4910-b38a-a9283cae040c",
    "lastScheduledRunId": null,
    "lastSuccessfullyExecutedCode": "print(\"Postcode: \" + str(set(df_raw['postcode']).difference(set(df_code['PostCode']))))\nprint(\"Province: \" + str(set(df_raw['province_name']).difference(set(df_code['ProvinceThai']))))\nprint(\"District: \" + str(set(df_raw['district_name']).difference(set(df_code['DistrictThaiShort']))))\nprint(\"Sub District: \" + str(set(df_raw['sub_district_name']).difference(set(df_code['TambonThaiShort']))))",
    "outputsMetadata": {
     "0": {
      "height": 101,
      "type": "stream"
     }
    }
   },
   "outputs": [
    {
     "name": "stdout",
     "output_type": "stream",
     "text": [
      "Postcode: set()\n",
      "Province: set()\n",
      "District: set()\n",
      "Sub District: {'หนอง ปรือ'}\n"
     ]
    }
   ],
   "source": [
    "print(\"Postcode: \" + str(set(df_raw['postcode']).difference(set(df_code['PostCode']))))\n",
    "print(\"Province: \" + str(set(df_raw['province_name']).difference(set(df_code['ProvinceThai']))))\n",
    "print(\"District: \" + str(set(df_raw['district_name']).difference(set(df_code['DistrictThaiShort']))))\n",
    "print(\"Sub District: \" + str(set(df_raw['sub_district_name']).difference(set(df_code['TambonThaiShort']))))"
   ]
  },
  {
   "cell_type": "code",
   "execution_count": 4,
   "id": "bf16684a-9ea2-4b03-87fc-2cf322d9e2cc",
   "metadata": {
    "executionCancelledAt": null,
    "executionTime": 10,
    "lastExecutedAt": 1751357790214,
    "lastExecutedByKernel": "8f36c741-9a3f-4910-b38a-a9283cae040c",
    "lastScheduledRunId": null,
    "lastSuccessfullyExecutedCode": "df_raw['sub_district_name'] = df_raw['sub_district_name'].str.replace('หนอง ปรือ','หนองปรือ')",
    "outputsMetadata": {
     "0": {
      "height": 500,
      "tableState": {},
      "type": "dataFrame"
     }
    }
   },
   "outputs": [],
   "source": [
    "df_raw['sub_district_name'] = df_raw['sub_district_name'].str.replace('หนอง ปรือ','หนองปรือ')"
   ]
  },
  {
   "cell_type": "markdown",
   "id": "58d93411",
   "metadata": {},
   "source": [
    "## Create Column 'number' to Use as Key Join"
   ]
  },
  {
   "cell_type": "code",
   "execution_count": 5,
   "id": "bbb0976e-9b1c-42fa-980b-531cc5647010",
   "metadata": {},
   "outputs": [],
   "source": [
    "df_raw['number'] = range(len(df_raw))"
   ]
  },
  {
   "cell_type": "markdown",
   "id": "f7b41df7",
   "metadata": {},
   "source": [
    "## Merge Data Between Raw Data and Postcode Data"
   ]
  },
  {
   "cell_type": "code",
   "execution_count": 6,
   "id": "93f3bf4f-9e1f-44dc-b57e-58a655e91f15",
   "metadata": {
    "executionCancelledAt": null,
    "executionTime": 74,
    "lastExecutedAt": 1751360369828,
    "lastExecutedByKernel": "8f36c741-9a3f-4910-b38a-a9283cae040c",
    "lastScheduledRunId": null,
    "lastSuccessfullyExecutedCode": "df_raw.loc[df_raw['flag'] == 1].merge(df_code[['PostCode', 'TambonThaiShort', 'DistrictThaiShort', 'ProvinceThai']], left_on=['sub_district_name', 'district_name', 'province_name'], right_on=['TambonThaiShort', 'DistrictThaiShort', 'ProvinceThai'], how='left')",
    "outputsMetadata": {
     "0": {
      "height": 550,
      "tableState": {
       "customFilter": {
        "const": {
         "type": "boolean",
         "valid": true,
         "value": true
        },
        "id": "cdb33136-9961-4cb3-a32a-cfdcac30d451",
        "nodeType": "const"
       }
      },
      "type": "dataFrame"
     }
    }
   },
   "outputs": [],
   "source": [
    "df_merge = df_raw.merge(\n",
    "    df_code[['PostCode', 'TambonThaiShort', 'DistrictThaiShort', 'ProvinceThai']],\n",
    "    left_on=['postcode', 'sub_district_name', 'district_name', 'province_name'],\n",
    "    right_on=['PostCode', 'TambonThaiShort', 'DistrictThaiShort', 'ProvinceThai'],\n",
    "    how='left'\n",
    ")"
   ]
  },
  {
   "cell_type": "markdown",
   "id": "300d7ebd",
   "metadata": {},
   "source": [
    "## List Data Which Is Not Match With Postcode Data"
   ]
  },
  {
   "cell_type": "code",
   "execution_count": 7,
   "id": "c52cc396-a8dd-460e-81d9-4cc35c654994",
   "metadata": {
    "executionCancelledAt": null,
    "executionTime": 51,
    "lastExecutedAt": 1751361881018,
    "lastExecutedByKernel": "8f36c741-9a3f-4910-b38a-a9283cae040c",
    "lastScheduledRunId": null,
    "lastSuccessfullyExecutedCode": "list = df_merge.loc[df_merge['PostCode'].isna(),].index.to_list()",
    "outputsMetadata": {
     "0": {
      "height": 500,
      "tableState": {},
      "type": "dataFrame"
     }
    }
   },
   "outputs": [],
   "source": [
    "list_not_match = df_merge.loc[df_merge['PostCode'].isna(),].index.to_list()"
   ]
  },
  {
   "cell_type": "markdown",
   "id": "c641b008",
   "metadata": {},
   "source": [
    "## Merge Data Between Raw Data and Postcode Data Without Postcode"
   ]
  },
  {
   "cell_type": "code",
   "execution_count": 8,
   "id": "5e96f948-677f-4d57-ab48-30670a3edf0f",
   "metadata": {
    "executionCancelledAt": null,
    "executionTime": 16,
    "lastExecutedAt": 1751361946480,
    "lastExecutedByKernel": "8f36c741-9a3f-4910-b38a-a9283cae040c",
    "lastScheduledRunId": null,
    "lastSuccessfullyExecutedCode": "df_merge_drop_postcode = df_raw.loc[df_raw['number'].isin(list)].merge(df_code[['PostCode', 'TambonThaiShort', 'DistrictThaiShort', 'ProvinceThai']], left_on=['sub_district_name', 'district_name', 'province_name'], right_on=['TambonThaiShort', 'DistrictThaiShort', 'ProvinceThai'], how='left')",
    "outputsMetadata": {
     "0": {
      "height": 500,
      "tableState": {},
      "type": "dataFrame"
     }
    }
   },
   "outputs": [],
   "source": [
    "df_merge_drop_postcode = df_raw.loc[df_raw['number'].isin(list_not_match)].merge(\n",
    "    df_code[['PostCode', 'TambonThaiShort', 'DistrictThaiShort', 'ProvinceThai']],\n",
    "    left_on=['sub_district_name', 'district_name', 'province_name'],\n",
    "    right_on=['TambonThaiShort', 'DistrictThaiShort', 'ProvinceThai'],\n",
    "    how='left'\n",
    ")"
   ]
  },
  {
   "cell_type": "markdown",
   "id": "d5c1ebd6",
   "metadata": {},
   "source": [
    "## Replace Postcode from Postcode Data to Raw Data"
   ]
  },
  {
   "cell_type": "code",
   "execution_count": 9,
   "id": "a0cfc9b6",
   "metadata": {},
   "outputs": [
    {
     "data": {
      "text/plain": [
       "6       10150\n",
       "29      74110\n",
       "76      17000\n",
       "114     24130\n",
       "150     24130\n",
       "232     21110\n",
       "293     10510\n",
       "393     73110\n",
       "398     10540\n",
       "551     10200\n",
       "554     10130\n",
       "611     10540\n",
       "694     73140\n",
       "708     20150\n",
       "714     10210\n",
       "811     10250\n",
       "838     10540\n",
       "869     18250\n",
       "908     10540\n",
       "956     24130\n",
       "957     72000\n",
       "981     10200\n",
       "986     10540\n",
       "1049    10130\n",
       "1061    20170\n",
       "Name: postcode, dtype: int64"
      ]
     },
     "execution_count": 9,
     "metadata": {},
     "output_type": "execute_result"
    }
   ],
   "source": [
    "df_merge.loc[df_merge['number'].isin(list_not_match),'postcode']"
   ]
  },
  {
   "cell_type": "code",
   "execution_count": 10,
   "id": "7f261406-1b31-4996-ad27-eeb18c2e5d99",
   "metadata": {
    "executionCancelledAt": null,
    "executionTime": 10,
    "lastExecutedAt": 1751362188688,
    "lastExecutedByKernel": "8f36c741-9a3f-4910-b38a-a9283cae040c",
    "lastScheduledRunId": null,
    "lastSuccessfullyExecutedCode": "df_merge.loc[df_merge['number'].isin(list),'postcode'] = df_merge_drop_postcode.loc[df_merge_drop_postcode['number'].isin(list),'PostCode'].to_list()",
    "outputsMetadata": {
     "0": {
      "height": 500,
      "tableState": {},
      "type": "dataFrame"
     }
    }
   },
   "outputs": [],
   "source": [
    "df_merge.loc[df_merge['number'].isin(list_not_match),'postcode'] = df_merge_drop_postcode.loc[df_merge_drop_postcode['number'].isin(list_not_match),'PostCode'].to_list()"
   ]
  },
  {
   "cell_type": "code",
   "execution_count": 11,
   "id": "1f4c1cd1",
   "metadata": {},
   "outputs": [
    {
     "data": {
      "text/plain": [
       "6       10130\n",
       "29      27260\n",
       "76      17110\n",
       "114     24180\n",
       "150     24180\n",
       "232     21170\n",
       "293     30150\n",
       "393     73160\n",
       "398     10570\n",
       "551     10230\n",
       "554     13130\n",
       "611     10570\n",
       "694     73180\n",
       "708     12150\n",
       "714     10220\n",
       "811     12150\n",
       "838     10570\n",
       "869     18150\n",
       "908     10570\n",
       "956     24180\n",
       "957     72150\n",
       "981     10220\n",
       "986     10570\n",
       "1049    13130\n",
       "1061    22170\n",
       "Name: postcode, dtype: int64"
      ]
     },
     "execution_count": 11,
     "metadata": {},
     "output_type": "execute_result"
    }
   ],
   "source": [
    "df_merge.loc[df_merge['number'].isin(list_not_match),'postcode']"
   ]
  },
  {
   "cell_type": "code",
   "execution_count": 15,
   "id": "d1346814",
   "metadata": {},
   "outputs": [
    {
     "data": {
      "text/html": [
       "<div>\n",
       "<style scoped>\n",
       "    .dataframe tbody tr th:only-of-type {\n",
       "        vertical-align: middle;\n",
       "    }\n",
       "\n",
       "    .dataframe tbody tr th {\n",
       "        vertical-align: top;\n",
       "    }\n",
       "\n",
       "    .dataframe thead th {\n",
       "        text-align: right;\n",
       "    }\n",
       "</style>\n",
       "<table border=\"1\" class=\"dataframe\">\n",
       "  <thead>\n",
       "    <tr style=\"text-align: right;\">\n",
       "      <th></th>\n",
       "      <th>province_name</th>\n",
       "      <th>district_name</th>\n",
       "      <th>sub_district_name</th>\n",
       "      <th>postcode</th>\n",
       "    </tr>\n",
       "  </thead>\n",
       "  <tbody>\n",
       "    <tr>\n",
       "      <th>0</th>\n",
       "      <td>สุพรรณบุรี</td>\n",
       "      <td>เมืองสุพรรณบุรี</td>\n",
       "      <td>โคกโคเฒ่า</td>\n",
       "      <td>72000</td>\n",
       "    </tr>\n",
       "    <tr>\n",
       "      <th>1</th>\n",
       "      <td>สมุทรปราการ</td>\n",
       "      <td>บางพลี</td>\n",
       "      <td>บางโฉลง</td>\n",
       "      <td>10540</td>\n",
       "    </tr>\n",
       "    <tr>\n",
       "      <th>2</th>\n",
       "      <td>ชุมพร</td>\n",
       "      <td>หลังสวน</td>\n",
       "      <td>พ้อแดง</td>\n",
       "      <td>86110</td>\n",
       "    </tr>\n",
       "    <tr>\n",
       "      <th>3</th>\n",
       "      <td>สุพรรณบุรี</td>\n",
       "      <td>อู่ทอง</td>\n",
       "      <td>จรเข้สามพัน</td>\n",
       "      <td>72160</td>\n",
       "    </tr>\n",
       "    <tr>\n",
       "      <th>4</th>\n",
       "      <td>ยโสธร</td>\n",
       "      <td>เมืองยโสธร</td>\n",
       "      <td>ในเมือง</td>\n",
       "      <td>35000</td>\n",
       "    </tr>\n",
       "    <tr>\n",
       "      <th>...</th>\n",
       "      <td>...</td>\n",
       "      <td>...</td>\n",
       "      <td>...</td>\n",
       "      <td>...</td>\n",
       "    </tr>\n",
       "    <tr>\n",
       "      <th>1090</th>\n",
       "      <td>ชัยภูมิ</td>\n",
       "      <td>บำเหน็จณรงค์</td>\n",
       "      <td>โคกเริงรมย์</td>\n",
       "      <td>36160</td>\n",
       "    </tr>\n",
       "    <tr>\n",
       "      <th>1091</th>\n",
       "      <td>นนทบุรี</td>\n",
       "      <td>ไทรน้อย</td>\n",
       "      <td>ไทรใหญ่</td>\n",
       "      <td>11150</td>\n",
       "    </tr>\n",
       "    <tr>\n",
       "      <th>1092</th>\n",
       "      <td>ระยอง</td>\n",
       "      <td>แกลง</td>\n",
       "      <td>ทุ่งควายกิน</td>\n",
       "      <td>21110</td>\n",
       "    </tr>\n",
       "    <tr>\n",
       "      <th>1093</th>\n",
       "      <td>ชัยภูมิ</td>\n",
       "      <td>คอนสวรรค์</td>\n",
       "      <td>ช่องสามหมอ</td>\n",
       "      <td>36140</td>\n",
       "    </tr>\n",
       "    <tr>\n",
       "      <th>1094</th>\n",
       "      <td>ศรีสะเกษ</td>\n",
       "      <td>ปรางค์กู่</td>\n",
       "      <td>พิมาย</td>\n",
       "      <td>33170</td>\n",
       "    </tr>\n",
       "  </tbody>\n",
       "</table>\n",
       "<p>1095 rows × 4 columns</p>\n",
       "</div>"
      ],
      "text/plain": [
       "     province_name    district_name sub_district_name  postcode\n",
       "0       สุพรรณบุรี  เมืองสุพรรณบุรี         โคกโคเฒ่า     72000\n",
       "1      สมุทรปราการ           บางพลี           บางโฉลง     10540\n",
       "2            ชุมพร          หลังสวน            พ้อแดง     86110\n",
       "3       สุพรรณบุรี           อู่ทอง       จรเข้สามพัน     72160\n",
       "4            ยโสธร       เมืองยโสธร           ในเมือง     35000\n",
       "...            ...              ...               ...       ...\n",
       "1090       ชัยภูมิ     บำเหน็จณรงค์       โคกเริงรมย์     36160\n",
       "1091       นนทบุรี          ไทรน้อย           ไทรใหญ่     11150\n",
       "1092         ระยอง             แกลง       ทุ่งควายกิน     21110\n",
       "1093       ชัยภูมิ        คอนสวรรค์        ช่องสามหมอ     36140\n",
       "1094      ศรีสะเกษ        ปรางค์กู่             พิมาย     33170\n",
       "\n",
       "[1095 rows x 4 columns]"
      ]
     },
     "execution_count": 15,
     "metadata": {},
     "output_type": "execute_result"
    }
   ],
   "source": [
    "df_merge.iloc[:,0:-5]"
   ]
  }
 ],
 "metadata": {
  "colab": {
   "name": "Welcome to DataCamp Workspaces.ipynb",
   "provenance": []
  },
  "kernelspec": {
   "display_name": "Python 3",
   "language": "python",
   "name": "python3"
  },
  "language_info": {
   "codemirror_mode": {
    "name": "ipython",
    "version": 3
   },
   "file_extension": ".py",
   "mimetype": "text/x-python",
   "name": "python",
   "nbconvert_exporter": "python",
   "pygments_lexer": "ipython3",
   "version": "3.12.1"
  }
 },
 "nbformat": 4,
 "nbformat_minor": 5
}
