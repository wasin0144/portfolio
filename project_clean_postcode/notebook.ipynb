{
 "cells": [
  {
   "cell_type": "markdown",
   "id": "1ab25bb2",
   "metadata": {},
   "source": [
    "# Import Libraries & Files"
   ]
  },
  {
   "cell_type": "code",
   "execution_count": null,
   "id": "10173a6a-cd04-46c7-9675-50a6692d3bfa",
   "metadata": {
    "executionCancelledAt": null,
    "executionTime": 1799,
    "lastExecutedAt": 1751355158222,
    "lastExecutedByKernel": "8f36c741-9a3f-4910-b38a-a9283cae040c",
    "lastScheduledRunId": null,
    "lastSuccessfullyExecutedCode": "import pandas as pd\ndf_code = pd.read_excel('postcode_clean.xlsx', sheet_name='รหัสไปรษณีย์')\ndf_raw = pd.read_excel('raw_data.xlsx')"
   },
   "outputs": [],
   "source": [
    "import pandas as pd\n",
    "df_raw = pd.read_excel('/workspaces/cleandata/import_files/raw_data.xlsx')\n",
    "df_code = pd.read_excel('/workspaces/cleandata/import_files/postcode_clean.xlsx', sheet_name='รหัสไปรษณีย์')"
   ]
  },
  {
   "cell_type": "markdown",
   "id": "a3cfd911",
   "metadata": {},
   "source": [
    "# Fix Wrong Postcode on Raw Data"
   ]
  },
  {
   "cell_type": "markdown",
   "id": "16ec4967",
   "metadata": {},
   "source": [
    "## Total Raw Data"
   ]
  },
  {
   "cell_type": "code",
   "execution_count": 48,
   "id": "a50b8d68",
   "metadata": {},
   "outputs": [
    {
     "data": {
      "text/plain": [
       "1095"
      ]
     },
     "execution_count": 48,
     "metadata": {},
     "output_type": "execute_result"
    }
   ],
   "source": [
    "df_raw.shape[0]"
   ]
  },
  {
   "cell_type": "markdown",
   "id": "bc556d64",
   "metadata": {},
   "source": [
    "## Fix Raw Data That Not Included in Postcode Data"
   ]
  },
  {
   "cell_type": "code",
   "execution_count": 49,
   "id": "d9d11d49-25d6-42bf-826e-51c826fd4603",
   "metadata": {
    "executionCancelledAt": null,
    "executionTime": 55,
    "lastExecutedAt": 1751357218690,
    "lastExecutedByKernel": "8f36c741-9a3f-4910-b38a-a9283cae040c",
    "lastScheduledRunId": null,
    "lastSuccessfullyExecutedCode": "print(\"Postcode: \" + str(set(df_raw['postcode']).difference(set(df_code['PostCode']))))\nprint(\"Province: \" + str(set(df_raw['province_name']).difference(set(df_code['ProvinceThai']))))\nprint(\"District: \" + str(set(df_raw['district_name']).difference(set(df_code['DistrictThaiShort']))))\nprint(\"Sub District: \" + str(set(df_raw['sub_district_name']).difference(set(df_code['TambonThaiShort']))))",
    "outputsMetadata": {
     "0": {
      "height": 101,
      "type": "stream"
     }
    }
   },
   "outputs": [
    {
     "name": "stdout",
     "output_type": "stream",
     "text": [
      "Postcode: set()\n",
      "Province: set()\n",
      "District: set()\n",
      "Sub District: {'หนอง ปรือ'}\n"
     ]
    }
   ],
   "source": [
    "print(\"Postcode: \" + str(set(df_raw['postcode']).difference(set(df_code['PostCode']))))\n",
    "print(\"Province: \" + str(set(df_raw['province_name']).difference(set(df_code['ProvinceThai']))))\n",
    "print(\"District: \" + str(set(df_raw['district_name']).difference(set(df_code['DistrictThaiShort']))))\n",
    "print(\"Sub District: \" + str(set(df_raw['sub_district_name']).difference(set(df_code['TambonThaiShort']))))"
   ]
  },
  {
   "cell_type": "code",
   "execution_count": 50,
   "id": "bf16684a-9ea2-4b03-87fc-2cf322d9e2cc",
   "metadata": {
    "executionCancelledAt": null,
    "executionTime": 10,
    "lastExecutedAt": 1751357790214,
    "lastExecutedByKernel": "8f36c741-9a3f-4910-b38a-a9283cae040c",
    "lastScheduledRunId": null,
    "lastSuccessfullyExecutedCode": "df_raw['sub_district_name'] = df_raw['sub_district_name'].str.replace('หนอง ปรือ','หนองปรือ')",
    "outputsMetadata": {
     "0": {
      "height": 500,
      "tableState": {},
      "type": "dataFrame"
     }
    }
   },
   "outputs": [],
   "source": [
    "df_raw['sub_district_name'] = df_raw['sub_district_name'].str.replace('หนอง ปรือ','หนองปรือ')"
   ]
  },
  {
   "cell_type": "markdown",
   "id": "58d93411",
   "metadata": {},
   "source": [
    "## Create Column 'number' to Use as Key Join"
   ]
  },
  {
   "cell_type": "code",
   "execution_count": 51,
   "id": "bbb0976e-9b1c-42fa-980b-531cc5647010",
   "metadata": {},
   "outputs": [],
   "source": [
    "df_raw['number'] = range(len(df_raw))"
   ]
  },
  {
   "cell_type": "markdown",
   "id": "f7b41df7",
   "metadata": {},
   "source": [
    "## Merge Data Between Raw Data and Postcode Data"
   ]
  },
  {
   "cell_type": "code",
   "execution_count": 86,
   "id": "93f3bf4f-9e1f-44dc-b57e-58a655e91f15",
   "metadata": {
    "executionCancelledAt": null,
    "executionTime": 74,
    "lastExecutedAt": 1751360369828,
    "lastExecutedByKernel": "8f36c741-9a3f-4910-b38a-a9283cae040c",
    "lastScheduledRunId": null,
    "lastSuccessfullyExecutedCode": "df_raw.loc[df_raw['flag'] == 1].merge(df_code[['PostCode', 'TambonThaiShort', 'DistrictThaiShort', 'ProvinceThai']], left_on=['sub_district_name', 'district_name', 'province_name'], right_on=['TambonThaiShort', 'DistrictThaiShort', 'ProvinceThai'], how='left')",
    "outputsMetadata": {
     "0": {
      "height": 550,
      "tableState": {
       "customFilter": {
        "const": {
         "type": "boolean",
         "valid": true,
         "value": true
        },
        "id": "cdb33136-9961-4cb3-a32a-cfdcac30d451",
        "nodeType": "const"
       }
      },
      "type": "dataFrame"
     }
    }
   },
   "outputs": [],
   "source": [
    "df_merge = df_raw.merge(\n",
    "    df_code[['PostCode', 'TambonThaiShort', 'DistrictThaiShort', 'ProvinceThai']],\n",
    "    left_on=['postcode', 'sub_district_name', 'district_name', 'province_name'],\n",
    "    right_on=['PostCode', 'TambonThaiShort', 'DistrictThaiShort', 'ProvinceThai'],\n",
    "    how='left'\n",
    ")"
   ]
  },
  {
   "cell_type": "markdown",
   "id": "300d7ebd",
   "metadata": {},
   "source": [
    "## List Data Which Is Not Match With Postcode Data"
   ]
  },
  {
   "cell_type": "code",
   "execution_count": 87,
   "id": "c52cc396-a8dd-460e-81d9-4cc35c654994",
   "metadata": {
    "executionCancelledAt": null,
    "executionTime": 51,
    "lastExecutedAt": 1751361881018,
    "lastExecutedByKernel": "8f36c741-9a3f-4910-b38a-a9283cae040c",
    "lastScheduledRunId": null,
    "lastSuccessfullyExecutedCode": "list = df_merge.loc[df_merge['PostCode'].isna(),].index.to_list()",
    "outputsMetadata": {
     "0": {
      "height": 500,
      "tableState": {},
      "type": "dataFrame"
     }
    }
   },
   "outputs": [],
   "source": [
    "list_not_match = df_merge.loc[df_merge['PostCode'].isna(),].index.to_list()"
   ]
  },
  {
   "cell_type": "markdown",
   "id": "c641b008",
   "metadata": {},
   "source": [
    "## Merge Data Between Raw Data and Postcode Data Without Postcode"
   ]
  },
  {
   "cell_type": "code",
   "execution_count": 88,
   "id": "5e96f948-677f-4d57-ab48-30670a3edf0f",
   "metadata": {
    "executionCancelledAt": null,
    "executionTime": 16,
    "lastExecutedAt": 1751361946480,
    "lastExecutedByKernel": "8f36c741-9a3f-4910-b38a-a9283cae040c",
    "lastScheduledRunId": null,
    "lastSuccessfullyExecutedCode": "df_merge_drop_postcode = df_raw.loc[df_raw['number'].isin(list)].merge(df_code[['PostCode', 'TambonThaiShort', 'DistrictThaiShort', 'ProvinceThai']], left_on=['sub_district_name', 'district_name', 'province_name'], right_on=['TambonThaiShort', 'DistrictThaiShort', 'ProvinceThai'], how='left')",
    "outputsMetadata": {
     "0": {
      "height": 500,
      "tableState": {},
      "type": "dataFrame"
     }
    }
   },
   "outputs": [],
   "source": [
    "df_merge_drop_postcode = df_raw.loc[df_raw['number'].isin(list_not_match)].merge(\n",
    "    df_code[['PostCode', 'TambonThaiShort', 'DistrictThaiShort', 'ProvinceThai']],\n",
    "    left_on=['sub_district_name', 'district_name', 'province_name'],\n",
    "    right_on=['TambonThaiShort', 'DistrictThaiShort', 'ProvinceThai'],\n",
    "    how='left'\n",
    ")"
   ]
  },
  {
   "cell_type": "markdown",
   "id": "d5c1ebd6",
   "metadata": {},
   "source": [
    "## Replace Postcode from Postcode Data to Raw Data"
   ]
  },
  {
   "cell_type": "code",
   "execution_count": 89,
   "id": "7f261406-1b31-4996-ad27-eeb18c2e5d99",
   "metadata": {
    "executionCancelledAt": null,
    "executionTime": 10,
    "lastExecutedAt": 1751362188688,
    "lastExecutedByKernel": "8f36c741-9a3f-4910-b38a-a9283cae040c",
    "lastScheduledRunId": null,
    "lastSuccessfullyExecutedCode": "df_merge.loc[df_merge['number'].isin(list),'postcode'] = df_merge_drop_postcode.loc[df_merge_drop_postcode['number'].isin(list),'PostCode'].to_list()",
    "outputsMetadata": {
     "0": {
      "height": 500,
      "tableState": {},
      "type": "dataFrame"
     }
    }
   },
   "outputs": [],
   "source": [
    "df_merge.loc[df_merge['number'].isin(list_not_match),'postcode'] = df_merge_drop_postcode.loc[df_merge_drop_postcode['number'].isin(list_not_match),'PostCode'].to_list()"
   ]
  },
  {
   "cell_type": "markdown",
   "id": "82e5ac19",
   "metadata": {},
   "source": [
    "# Remove Redundancy Address"
   ]
  },
  {
   "cell_type": "markdown",
   "id": "de825c74",
   "metadata": {},
   "source": [
    "## Split Full Address"
   ]
  },
  {
   "cell_type": "code",
   "execution_count": 90,
   "id": "f4f4bc32",
   "metadata": {},
   "outputs": [],
   "source": [
    "df_address = df_merge['full_address'].str.split(\" \", expand=True)"
   ]
  },
  {
   "cell_type": "markdown",
   "id": "f0b7b08f",
   "metadata": {},
   "source": [
    "## List Data Pattern Needed to Remove"
   ]
  },
  {
   "cell_type": "code",
   "execution_count": 91,
   "id": "188c3d50-93f9-4b19-a125-c51425408688",
   "metadata": {
    "executionCancelledAt": null,
    "executionTime": 8,
    "lastExecutedAt": 1751352544652,
    "lastExecutedByKernel": "8f36c741-9a3f-4910-b38a-a9283cae040c",
    "lastScheduledRunId": null,
    "lastSuccessfullyExecutedCode": "list = [\n    'ต.',\n    'อ.',\n    'จ.',\n    'เขต',\n    'แขวง'\n]"
   },
   "outputs": [],
   "source": [
    "list_replace = [\n",
    "    'ต.',\n",
    "    'อ.',\n",
    "    'จ.',\n",
    "    'เขต',\n",
    "    'แขวง'\n",
    "]"
   ]
  },
  {
   "cell_type": "markdown",
   "id": "745b6847",
   "metadata": {},
   "source": [
    "## Remove Data That Match With The Pattern in List"
   ]
  },
  {
   "cell_type": "code",
   "execution_count": 92,
   "id": "eaa6398e-9e31-4006-895f-05bd7a3cee2d",
   "metadata": {
    "executionCancelledAt": null,
    "executionTime": null,
    "lastExecutedAt": null,
    "lastExecutedByKernel": null,
    "lastScheduledRunId": null,
    "lastSuccessfullyExecutedCode": null,
    "outputsMetadata": {
     "0": {
      "height": 616,
      "type": "stream"
     }
    }
   },
   "outputs": [
    {
     "name": "stdout",
     "output_type": "stream",
     "text": [
      "ต.บางจาก\n",
      "อ.พระประแดง\n",
      "ต.บางจาก\n",
      "อ.พระประแดง\n",
      "ต.บางจาก\n",
      "อ.พระประแดง\n",
      "ต.บางจาก\n",
      "อ.พระประแดง\n",
      "ต.บางจาก\n",
      "อ.พระประแดง\n",
      "ต.บางตะเคียน\n",
      "อ.สองพี่น้อง\n",
      "แขวงท่าข้าม\n",
      "เขตบางขุนเทียน\n",
      "อ.เมือง\n",
      "ต.ทุ่งนาทัย\n",
      "อ.ทัพทัน\n",
      "จ.อุทัยธานี\n",
      "ต.พาณิชย์\n",
      "ต.บ้านไผ่\n",
      "ต.บ้านไผ่\n",
      "ต.บาวคูเวียง\n",
      "อ.บางกรวย\n",
      "จ.นนทบุรี11130\n",
      "ต.รับร่อ\n",
      "อ.ท่าแซะ\n",
      "ต.แหลมงอบ\n",
      "ต.นาพญา\n",
      "ต.ท่าตูม\n",
      "อ.ศรีมหาโพธิ\n",
      "จ.ปราจีนบุรี\n",
      "ต.ท่าตูม\n",
      "อ.ศรีมหาโพธิ\n",
      "จ.ปราจีนบุรี\n",
      "ต.ท่าตูม\n",
      "อ.ศรีมหาโพธิ\n",
      "จ.ปราจีนบุรี\n",
      "เขตบางกะปิ\n",
      "ต.บ้านชบ\n",
      "อ.สังขะ\n",
      "จ.สุรินทร์\n",
      "ต.คลองจินดา\n",
      "อ.สามพราน\n",
      "จ.นครปฐม\n",
      "ต.คลองจินดา\n",
      "อ.สามพราน\n",
      "จ.นครปฐม\n",
      "ต.คลองจินดา\n",
      "อ.สามพราน\n",
      "จ.นครปฐม\n",
      "ต.ทุ่งเบญจา\n",
      "อ.ท่าใหม่\n",
      "จ.จันทบุรี\n"
     ]
    }
   ],
   "source": [
    "for i in range(df_address.shape[0]):\n",
    "    for j in range(df_address.shape[1]):\n",
    "        cell = df_address.iloc[i, j]\n",
    "        if isinstance(cell, str):\n",
    "            if any(cell.find(word) == 0 for word in list_replace):\n",
    "                print(cell)\n",
    "                df_address.iloc[i, j] = None\n",
    "    df_merge.loc[i, 'full_address'] = \" \".join(x for x in df_address.iloc[i] if isinstance(x, str))"
   ]
  },
  {
   "cell_type": "code",
   "execution_count": 94,
   "id": "00153ba2",
   "metadata": {},
   "outputs": [],
   "source": [
    "df_merge[0:-5].to_excel('/workspaces/cleandata/export_files/20250701_cleaned_data.xlsx')"
   ]
  }
 ],
 "metadata": {
  "colab": {
   "name": "Welcome to DataCamp Workspaces.ipynb",
   "provenance": []
  },
  "kernelspec": {
   "display_name": "Python 3",
   "language": "python",
   "name": "python3"
  },
  "language_info": {
   "codemirror_mode": {
    "name": "ipython",
    "version": 3
   },
   "file_extension": ".py",
   "mimetype": "text/x-python",
   "name": "python",
   "nbconvert_exporter": "python",
   "pygments_lexer": "ipython3",
   "version": "3.12.1"
  }
 },
 "nbformat": 4,
 "nbformat_minor": 5
}
